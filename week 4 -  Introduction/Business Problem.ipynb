{
    "cells": [
        {
            "metadata": {
                "collapsed": true
            },
            "cell_type": "markdown",
            "source": "<h1> The Battle of Neighborhoods: Introduction/Business Problem <h1>"
        },
        {
            "metadata": {},
            "cell_type": "markdown",
            "source": "<h1> Introduction <h1>"
        },
        {
            "metadata": {},
            "cell_type": "markdown",
            "source": "The main objective of this project is to help people in exploring better facilities around their neighborhood. It will help people in making a smart and efficient decision on choosing excellent neighborhoods out of numbers of other neighborhoods in Scarborough, Toronto.\n\nMany people are migrating to many different states of Canada and need a lot of research for sound housing prices and reputed schools for their children. This project is for those people who are looking for better neighborhoods. For ease of accessing to Cafe, School, Supermarket, medical shops, grocery shops, mall, theatre, hospital, like-minded people, etc.\n\nThis project intends to create an analysis of features for people who are migrating to Scarborough in search of the best neighborhood as a relative analysis between neighborhoods. The highlights include median housing price and better school according to ratings, crime rates of that particular area, road connectivity, weather conditions, good management for an emergency, water resources both fresh and wastewater and excrement conveyed in sewers and recreational facilities.\n\nIt will help people to get the awareness of the area and neighborhood before moving to a new city, state, country or place for their work or to start a new fresh life."
        },
        {
            "metadata": {},
            "cell_type": "markdown",
            "source": "<h1>Problem Which Tried to Solve: <h1>"
        },
        {
            "metadata": {},
            "cell_type": "markdown",
            "source": "The major goal of this project is to recommend a better neighborhood in a new city for the person who is moving there. Social presence in society in terms of like-minded people. Connectivity to the airport, bus stand, city center, markets and other daily needs things nearby.\n\n1) Sorted list of the house in terms of housing prices in an ascending or descending order\n\n2) Sorted list of schools in terms of location, fees, rating, and reviews"
        },
        {
            "metadata": {},
            "cell_type": "markdown",
            "source": "<h1> The Location: <h1>"
        },
        {
            "metadata": {},
            "cell_type": "markdown",
            "source": "Scarborough is a favorite destination for new immigrants in Canada to reside in. As a result, it is one of the most distinct and multicultural areas in the Greater Toronto Area, being home to various religious groups and places of worship. Although immigration has become a hot topic over the past few years with more governments seeking more constraints on immigrants and refugees, the general trend of immigration into Canada has been one of the rises."
        },
        {
            "metadata": {},
            "cell_type": "markdown",
            "source": "<h1> Foursquare API: <h1>"
        },
        {
            "metadata": {},
            "cell_type": "markdown",
            "source": "This project would use Four-square API as its prime data collecting source as it has a database of millions of places, notably their places API which provides the capacity to perform location search, location sharing and details about a business."
        },
        {
            "metadata": {},
            "cell_type": "markdown",
            "source": "<h1> Work Flow: <h1>"
        },
        {
            "metadata": {},
            "cell_type": "markdown",
            "source": "Using credentials of Foursquare API features of near-by places of the neighborhoods would be mined. Due to HTTP request restrictions, the number of places per neighborhood parameter would reasonably be set to 100 and the radius parameter would be set to 500."
        },
        {
            "metadata": {},
            "cell_type": "markdown",
            "source": "<h1> Clustering Strategy:<h1>"
        },
        {
            "metadata": {},
            "cell_type": "markdown",
            "source": "To compare the similarities of two cities, we decided to examine neighborhoods, segment them, and group them into clusters to find similar neighborhoods in a big city like New York and Toronto. To be able to do that, we need to cluster data which is a form of unsupervised machine learning: a k-means clustering algorithm"
        }
    ],
    "metadata": {
        "kernelspec": {
            "name": "python3",
            "display_name": "Python 3.6",
            "language": "python"
        },
        "language_info": {
            "name": "python",
            "version": "3.6.9",
            "mimetype": "text/x-python",
            "codemirror_mode": {
                "name": "ipython",
                "version": 3
            },
            "pygments_lexer": "ipython3",
            "nbconvert_exporter": "python",
            "file_extension": ".py"
        }
    },
    "nbformat": 4,
    "nbformat_minor": 1
}